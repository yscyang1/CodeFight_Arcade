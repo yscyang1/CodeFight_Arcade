{
 "cells": [
  {
   "cell_type": "markdown",
   "metadata": {},
   "source": [
    "### First Sol'n"
   ]
  },
  {
   "cell_type": "code",
   "execution_count": 25,
   "metadata": {
    "collapsed": false
   },
   "outputs": [
    {
     "data": {
      "text/plain": [
       "False"
      ]
     },
     "execution_count": 25,
     "metadata": {},
     "output_type": "execute_result"
    }
   ],
   "source": [
    "import collections\n",
    "\n",
    "def palindromeRearranging(inputString):\n",
    "    c = collections.Counter(inputString)\n",
    "    if len(inputString)%2 == 0:\n",
    "        for char in set(inputString):\n",
    "            if c[char]%2 != 0:\n",
    "                return False\n",
    "    else:\n",
    "        odd = 0\n",
    "        for char in set(inputString):\n",
    "            if c[char]%2 != 0:\n",
    "                odd += 1\n",
    "                if odd > 1:\n",
    "                    return False\n",
    "    return True\n",
    "inputString = \"aacsbb\"\n",
    "palindromeRearranging(inputString)"
   ]
  },
  {
   "cell_type": "markdown",
   "metadata": {},
   "source": [
    "### Elegant Sol'n"
   ]
  },
  {
   "cell_type": "code",
   "execution_count": 37,
   "metadata": {
    "collapsed": false
   },
   "outputs": [
    {
     "data": {
      "text/plain": [
       "True"
      ]
     },
     "execution_count": 37,
     "metadata": {},
     "output_type": "execute_result"
    }
   ],
   "source": [
    "def palindromeRearranging(inputString):\n",
    "    return sum([inputString.count(i)%2 for i in set(inputString)])<=1\n",
    "\n",
    "inputString = \"aacbb\"\n",
    "palindromeRearranging(inputString)"
   ]
  },
  {
   "cell_type": "code",
   "execution_count": null,
   "metadata": {
    "collapsed": true
   },
   "outputs": [],
   "source": []
  }
 ],
 "metadata": {
  "anaconda-cloud": {},
  "kernelspec": {
   "display_name": "Python [conda root]",
   "language": "python",
   "name": "conda-root-py"
  },
  "language_info": {
   "codemirror_mode": {
    "name": "ipython",
    "version": 3
   },
   "file_extension": ".py",
   "mimetype": "text/x-python",
   "name": "python",
   "nbconvert_exporter": "python",
   "pygments_lexer": "ipython3",
   "version": "3.5.2"
  }
 },
 "nbformat": 4,
 "nbformat_minor": 1
}
