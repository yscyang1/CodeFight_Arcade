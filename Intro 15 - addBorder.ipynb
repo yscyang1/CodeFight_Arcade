{
 "cells": [
  {
   "cell_type": "markdown",
   "metadata": {},
   "source": [
    "### First Sol'n"
   ]
  },
  {
   "cell_type": "code",
   "execution_count": 24,
   "metadata": {
    "collapsed": false
   },
   "outputs": [
    {
     "name": "stdout",
     "output_type": "stream",
     "text": [
      "['*****', '*abc*', '*ded*', '*****']\n"
     ]
    },
    {
     "data": {
      "text/plain": [
       "['*****', '*abc*', '*ded*', '*****']"
      ]
     },
     "execution_count": 24,
     "metadata": {},
     "output_type": "execute_result"
    }
   ],
   "source": [
    "def addBorder(picture):\n",
    "    leng = len(picture[0]) + 2\n",
    "    stuff = list(map((lambda x: '*' + x + '*'), picture))\n",
    "    stuff.insert(0, leng*'*')\n",
    "    stuff.append(leng * '*')\n",
    "    print(stuff)\n",
    "    \n",
    "    return stuff\n",
    "\n",
    "picture = [\"abc\",\n",
    "           \"ded\"]\n",
    "\n",
    "addBorder(picture)"
   ]
  },
  {
   "cell_type": "markdown",
   "metadata": {},
   "source": [
    "### Elegant Sol'n"
   ]
  },
  {
   "cell_type": "code",
   "execution_count": 30,
   "metadata": {
    "collapsed": false
   },
   "outputs": [
    {
     "data": {
      "text/plain": [
       "['*****', '*abc*', '*ded*', '*****']"
      ]
     },
     "execution_count": 30,
     "metadata": {},
     "output_type": "execute_result"
    }
   ],
   "source": [
    "def addBorder(picture):\n",
    "    return [(len(picture[0]) + 2) * '*'] + list(map((lambda x: '*' + x + '*'), picture)) + [(len(picture[0]) + 2) * '*']\n",
    "\n",
    "picture = [\"abc\",\n",
    "           \"ded\"]\n",
    "\n",
    "addBorder(picture)"
   ]
  },
  {
   "cell_type": "code",
   "execution_count": null,
   "metadata": {
    "collapsed": true
   },
   "outputs": [],
   "source": []
  }
 ],
 "metadata": {
  "kernelspec": {
   "display_name": "Python [conda root]",
   "language": "python",
   "name": "conda-root-py"
  },
  "language_info": {
   "codemirror_mode": {
    "name": "ipython",
    "version": 3
   },
   "file_extension": ".py",
   "mimetype": "text/x-python",
   "name": "python",
   "nbconvert_exporter": "python",
   "pygments_lexer": "ipython3",
   "version": "3.5.2"
  }
 },
 "nbformat": 4,
 "nbformat_minor": 1
}
