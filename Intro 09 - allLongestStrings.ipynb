{
 "cells": [
  {
   "cell_type": "markdown",
   "metadata": {},
   "source": [
    "### First Sol'n"
   ]
  },
  {
   "cell_type": "code",
   "execution_count": 17,
   "metadata": {
    "collapsed": false
   },
   "outputs": [
    {
     "data": {
      "text/plain": [
       "['aba', 'vcd', 'aba']"
      ]
     },
     "execution_count": 17,
     "metadata": {},
     "output_type": "execute_result"
    }
   ],
   "source": [
    "def allLongestStrings(inputArray):\n",
    "    out = [] \n",
    "    maxi = max([len(x) for x in inputArray])\n",
    "    for x in inputArray:\n",
    "        if len(x) == maxi:\n",
    "            out.append(x)\n",
    "            \n",
    "    return out\n",
    "    \n",
    "\n",
    "inputArray = [\"aba\", \"aa\", \"ad\", \"vcd\", \"aba\"]\n",
    "allLongestStrings(inputArray)"
   ]
  },
  {
   "cell_type": "markdown",
   "metadata": {},
   "source": [
    "### Elegant Sol'n"
   ]
  },
  {
   "cell_type": "code",
   "execution_count": 24,
   "metadata": {
    "collapsed": false
   },
   "outputs": [
    {
     "data": {
      "text/plain": [
       "['aba', 'vcd', 'aba']"
      ]
     },
     "execution_count": 24,
     "metadata": {},
     "output_type": "execute_result"
    }
   ],
   "source": [
    "def allLongestStrings(inputArray):\n",
    "    maxi = max(len(x) for x in inputArray)\n",
    "    return [x for x in inputArray if len(x) == maxi]\n",
    "\n",
    "inputArray = [\"aba\", \"aa\", \"ad\", \"vcd\", \"aba\"]\n",
    "allLongestStrings(inputArray)"
   ]
  },
  {
   "cell_type": "code",
   "execution_count": null,
   "metadata": {
    "collapsed": true
   },
   "outputs": [],
   "source": []
  }
 ],
 "metadata": {
  "kernelspec": {
   "display_name": "Python [conda root]",
   "language": "python",
   "name": "conda-root-py"
  },
  "language_info": {
   "codemirror_mode": {
    "name": "ipython",
    "version": 3
   },
   "file_extension": ".py",
   "mimetype": "text/x-python",
   "name": "python",
   "nbconvert_exporter": "python",
   "pygments_lexer": "ipython3",
   "version": "3.5.2"
  }
 },
 "nbformat": 4,
 "nbformat_minor": 1
}
