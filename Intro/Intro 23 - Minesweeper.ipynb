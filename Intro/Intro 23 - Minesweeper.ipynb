{
 "cells": [
  {
   "cell_type": "markdown",
   "metadata": {},
   "source": [
    "### First Sol'n"
   ]
  },
  {
   "cell_type": "code",
   "execution_count": 178,
   "metadata": {
    "collapsed": false
   },
   "outputs": [],
   "source": [
    "def minesweeper(matrix):\n",
    "    arr = []\n",
    "    new_matrix = pad_matrix(matrix)\n",
    "    for i in range(1, len(matrix)-1):\n",
    "        arr.append([])\n",
    "        for j in range(1, len(matrix[i])-1):\n",
    "            arr[i-1].append(sum(new_matrix[i-1][j-1:j+2] + [new_matrix[i][j-1]] + [new_matrix[i][j+1]] + new_matrix[i+1][j-1:j+2]))\n",
    "    return arr\n",
    "    \n",
    "def pad_matrix(matrix):\n",
    "    for i in range(len(matrix)):\n",
    "        matrix[i].insert(0,0)\n",
    "        matrix[i].append(0)\n",
    "    matrix.insert(0, [0] * len(matrix[0]))\n",
    "    matrix.append([0] * len(matrix[0]))\n",
    "    return matrix\n",
    "    \n"
   ]
  },
  {
   "cell_type": "code",
   "execution_count": 179,
   "metadata": {
    "collapsed": false
   },
   "outputs": [
    {
     "data": {
      "text/plain": [
       "[[1, 2, 1], [2, 1, 1], [1, 1, 1]]"
      ]
     },
     "execution_count": 179,
     "metadata": {},
     "output_type": "execute_result"
    }
   ],
   "source": [
    "matrix1 = [[True, False, False],\n",
    "          [False, True, False],\n",
    "          [False, False, False]]\n",
    "\n",
    "minesweeper(matrix1)"
   ]
  },
  {
   "cell_type": "code",
   "execution_count": 180,
   "metadata": {
    "collapsed": false
   },
   "outputs": [
    {
     "data": {
      "text/plain": [
       "[[0, 0, 0], [0, 0, 0]]"
      ]
     },
     "execution_count": 180,
     "metadata": {},
     "output_type": "execute_result"
    }
   ],
   "source": [
    "matrix2 = [[False,False,False], \n",
    " [False,False,False]]\n",
    "\n",
    "minesweeper(matrix2)"
   ]
  },
  {
   "cell_type": "markdown",
   "metadata": {},
   "source": [
    "### Elegant Sol'n"
   ]
  },
  {
   "cell_type": "code",
   "execution_count": null,
   "metadata": {
    "collapsed": true
   },
   "outputs": [],
   "source": []
  }
 ],
 "metadata": {
  "anaconda-cloud": {},
  "kernelspec": {
   "display_name": "Python [conda root]",
   "language": "python",
   "name": "conda-root-py"
  },
  "language_info": {
   "codemirror_mode": {
    "name": "ipython",
    "version": 3
   },
   "file_extension": ".py",
   "mimetype": "text/x-python",
   "name": "python",
   "nbconvert_exporter": "python",
   "pygments_lexer": "ipython3",
   "version": "3.5.2"
  }
 },
 "nbformat": 4,
 "nbformat_minor": 1
}
