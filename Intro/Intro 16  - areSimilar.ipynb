{
 "cells": [
  {
   "cell_type": "markdown",
   "metadata": {},
   "source": [
    "### First Sol'n"
   ]
  },
  {
   "cell_type": "code",
   "execution_count": 62,
   "metadata": {
    "collapsed": false
   },
   "outputs": [
    {
     "data": {
      "text/plain": [
       "True"
      ]
     },
     "execution_count": 62,
     "metadata": {},
     "output_type": "execute_result"
    }
   ],
   "source": [
    "def areSimilar(a, b):\n",
    "    sum = 0\n",
    "    not_eq = [[],[]]\n",
    "    for i in range(len(a)):\n",
    "        if a[i] != b[i]:\n",
    "            sum +=1 \n",
    "            not_eq[0].append(a[i])\n",
    "            not_eq[1].append(b[i])\n",
    "            if sum > 2:\n",
    "                return False\n",
    "\n",
    "    return sorted(not_eq[0]) == sorted(not_eq[1])\n",
    "    \n",
    "        \n",
    "\n",
    "a = [2, 3, 1]\n",
    "b = [1, 3, 2]\n",
    "    \n",
    "areSimilar(a, b)"
   ]
  },
  {
   "cell_type": "markdown",
   "metadata": {},
   "source": [
    "### Elegant Sol'n"
   ]
  },
  {
   "cell_type": "code",
   "execution_count": 90,
   "metadata": {
    "collapsed": false
   },
   "outputs": [
    {
     "name": "stdout",
     "output_type": "stream",
     "text": [
      "3\n",
      "False\n"
     ]
    },
    {
     "data": {
      "text/plain": [
       "False"
      ]
     },
     "execution_count": 90,
     "metadata": {},
     "output_type": "execute_result"
    }
   ],
   "source": [
    "def areSimilar(a, b):\n",
    "\n",
    "    return sorted(a)==sorted(b) and sum([A!=B for A,B in zip(a,b)])<3\n",
    "\n",
    "a = [1, 2, 2]\n",
    "b = [2, 1, 1]\n",
    "    \n",
    "areSimilar(a, b)"
   ]
  },
  {
   "cell_type": "code",
   "execution_count": null,
   "metadata": {
    "collapsed": true
   },
   "outputs": [],
   "source": []
  }
 ],
 "metadata": {
  "kernelspec": {
   "display_name": "Python [conda root]",
   "language": "python",
   "name": "conda-root-py"
  },
  "language_info": {
   "codemirror_mode": {
    "name": "ipython",
    "version": 3
   },
   "file_extension": ".py",
   "mimetype": "text/x-python",
   "name": "python",
   "nbconvert_exporter": "python",
   "pygments_lexer": "ipython3",
   "version": "3.5.2"
  }
 },
 "nbformat": 4,
 "nbformat_minor": 1
}
