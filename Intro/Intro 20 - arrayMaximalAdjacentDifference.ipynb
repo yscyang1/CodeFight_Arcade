{
 "cells": [
  {
   "cell_type": "markdown",
   "metadata": {},
   "source": [
    "### First Sol'n"
   ]
  },
  {
   "cell_type": "code",
   "execution_count": 21,
   "metadata": {
    "collapsed": false
   },
   "outputs": [
    {
     "data": {
      "text/plain": [
       "12"
      ]
     },
     "execution_count": 21,
     "metadata": {},
     "output_type": "execute_result"
    }
   ],
   "source": [
    "def arrayMaximalAdjacentDifference(inputArray):\n",
    "    return max([max(abs(inputArray[i] - inputArray[i-1]), abs(inputArray[i] - inputArray[i+1]) ) for i in range(1, len(inputArray)-1)])\n",
    "\n",
    "inputArray = [2,-10,-10]\n",
    "arrayMaximalAdjacentDifference(inputArray)"
   ]
  },
  {
   "cell_type": "markdown",
   "metadata": {},
   "source": [
    "### Elegant Sol'n"
   ]
  },
  {
   "cell_type": "code",
   "execution_count": 23,
   "metadata": {
    "collapsed": false
   },
   "outputs": [
    {
     "data": {
      "text/plain": [
       "12"
      ]
     },
     "execution_count": 23,
     "metadata": {},
     "output_type": "execute_result"
    }
   ],
   "source": [
    "def arrayMaximalAdjacentDifference(inputArray):\n",
    "    return max([abs(inputArray[i+1] - inputArray[i]) for i in range(len(inputArray)-1)])\n",
    "inputArray = [2,-10,-10]\n",
    "arrayMaximalAdjacentDifference(inputArray)"
   ]
  },
  {
   "cell_type": "code",
   "execution_count": null,
   "metadata": {
    "collapsed": true
   },
   "outputs": [],
   "source": []
  }
 ],
 "metadata": {
  "kernelspec": {
   "display_name": "Python [conda root]",
   "language": "python",
   "name": "conda-root-py"
  },
  "language_info": {
   "codemirror_mode": {
    "name": "ipython",
    "version": 3
   },
   "file_extension": ".py",
   "mimetype": "text/x-python",
   "name": "python",
   "nbconvert_exporter": "python",
   "pygments_lexer": "ipython3",
   "version": "3.5.2"
  }
 },
 "nbformat": 4,
 "nbformat_minor": 1
}
