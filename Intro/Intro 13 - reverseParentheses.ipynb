{
 "cells": [
  {
   "cell_type": "markdown",
   "metadata": {},
   "source": [
    "### First Sol'n"
   ]
  },
  {
   "cell_type": "code",
   "execution_count": 236,
   "metadata": {
    "collapsed": false
   },
   "outputs": [
    {
     "name": "stdout",
     "output_type": "stream",
     "text": [
      "[13, 1] [17, 19]\n",
      "[1] [17]\n",
      "[10, 3] [7, 14]\n",
      "[8] [12]\n"
     ]
    },
    {
     "data": {
      "text/plain": [
       "'abcabcabcabc'"
      ]
     },
     "execution_count": 236,
     "metadata": {},
     "output_type": "execute_result"
    }
   ],
   "source": [
    "def reverseParentheses(s):\n",
    "    ind_paren = [i for i,c in enumerate(s) if s[i] == '(']\n",
    "    num_paren = len(ind_paren)\n",
    "    for i in range(num_paren):\n",
    "        open_paren = [i for i,c in enumerate(s) if s[i] == '('][::-1]\n",
    "        close_paren = [i for i,c in enumerate(s) if s[i] == ')']\n",
    "        print(open_paren, close_paren)\n",
    "        if open_paren[0] < close_paren[0]:\n",
    "            new_str = s[:open_paren[0]]+s[open_paren[0]+1:close_paren[0]][::-1]  + s[close_paren[0]+1:]\n",
    "            s = new_str\n",
    "        else:\n",
    "            new_str = s[:open_paren[1]] + s[open_paren[1]+1:close_paren[0]][::-1]+ s[close_paren[0]+1:]\n",
    "            \n",
    "            s = new_str\n",
    "    return s\n",
    "\n",
    "\n",
    "reverseParentheses(\"a(bcdefghijkl(mno)p)q\")\n",
    "reverseParentheses('abc(cba)ab(bac)c')"
   ]
  },
  {
   "cell_type": "markdown",
   "metadata": {},
   "source": [
    "### Elegant Sol'n"
   ]
  },
  {
   "cell_type": "code",
   "execution_count": 23,
   "metadata": {
    "collapsed": false
   },
   "outputs": [
    {
     "name": "stdout",
     "output_type": "stream",
     "text": [
      "0\n",
      "1\n",
      "2\n",
      "3\n",
      "4\n",
      "5\n",
      "6\n",
      "7\n",
      "8\n",
      "9\n",
      "10\n",
      "11\n",
      "12\n",
      "13\n",
      "14\n",
      "15\n",
      "16\n",
      "17\n",
      "18\n",
      "19\n",
      "20\n",
      "0\n",
      "1\n",
      "2\n",
      "3\n",
      "4\n",
      "5\n",
      "6\n",
      "7\n",
      "8\n",
      "9\n",
      "10\n",
      "11\n",
      "12\n",
      "13\n",
      "14\n",
      "15\n"
     ]
    }
   ],
   "source": [
    "def reverseParentheses(s):\n",
    "    for char in range(len(s)):\n",
    "        open\n",
    "\n",
    "reverseParentheses(\"a(bcdefghijkl(mno)p)q\")\n",
    "reverseParentheses('abc(cba)ab(bac)c')"
   ]
  },
  {
   "cell_type": "code",
   "execution_count": null,
   "metadata": {
    "collapsed": true
   },
   "outputs": [],
   "source": []
  }
 ],
 "metadata": {
  "anaconda-cloud": {},
  "kernelspec": {
   "display_name": "Python [conda root]",
   "language": "python",
   "name": "conda-root-py"
  },
  "language_info": {
   "codemirror_mode": {
    "name": "ipython",
    "version": 3
   },
   "file_extension": ".py",
   "mimetype": "text/x-python",
   "name": "python",
   "nbconvert_exporter": "python",
   "pygments_lexer": "ipython3",
   "version": "3.5.2"
  }
 },
 "nbformat": 4,
 "nbformat_minor": 1
}
