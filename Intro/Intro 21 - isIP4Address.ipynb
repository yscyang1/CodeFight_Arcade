{
 "cells": [
  {
   "cell_type": "markdown",
   "metadata": {},
   "source": [
    "### First Sol'n"
   ]
  },
  {
   "cell_type": "code",
   "execution_count": 49,
   "metadata": {
    "collapsed": false
   },
   "outputs": [
    {
     "data": {
      "text/plain": [
       "True"
      ]
     },
     "execution_count": 49,
     "metadata": {},
     "output_type": "execute_result"
    }
   ],
   "source": [
    "def isIPv4Address(inputString):\n",
    "    try:\n",
    "        return sum([((int(num) > -1) and (int(num) < 256)) for i, num in enumerate(inputString.split('.')) if len(inputString.split('.'))==4]) == 4\n",
    "    except:\n",
    "        return False\n",
    "\n",
    "inputString = \"1.3.254.1\"\n",
    "isIPv4Address(inputString)"
   ]
  },
  {
   "cell_type": "markdown",
   "metadata": {},
   "source": [
    "### Elegant Sol'n\n",
    "multiple elegant solutions, including regex, importing ipaddress and using ip_address(), or the following"
   ]
  },
  {
   "cell_type": "code",
   "execution_count": 80,
   "metadata": {
    "collapsed": false
   },
   "outputs": [
    {
     "data": {
      "text/plain": [
       "False"
      ]
     },
     "execution_count": 80,
     "metadata": {},
     "output_type": "execute_result"
    }
   ],
   "source": [
    "def isIPv4Address(inputString):\n",
    "    digits = inputString.split('.')\n",
    "    \n",
    "    return len(digits)==4 and all(num.isdigit() and -1 < int(num) < 256 for num in digits)\n",
    "inputString = \".3.254.1\"\n",
    "isIPv4Address(inputString)"
   ]
  },
  {
   "cell_type": "code",
   "execution_count": null,
   "metadata": {
    "collapsed": true
   },
   "outputs": [],
   "source": []
  }
 ],
 "metadata": {
  "kernelspec": {
   "display_name": "Python [conda root]",
   "language": "python",
   "name": "conda-root-py"
  },
  "language_info": {
   "codemirror_mode": {
    "name": "ipython",
    "version": 3
   },
   "file_extension": ".py",
   "mimetype": "text/x-python",
   "name": "python",
   "nbconvert_exporter": "python",
   "pygments_lexer": "ipython3",
   "version": "3.5.2"
  }
 },
 "nbformat": 4,
 "nbformat_minor": 1
}
