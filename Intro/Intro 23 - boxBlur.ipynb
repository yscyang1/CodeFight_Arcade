{
 "cells": [
  {
   "cell_type": "markdown",
   "metadata": {},
   "source": [
    "### First Sol'n"
   ]
  },
  {
   "cell_type": "code",
   "execution_count": 300,
   "metadata": {
    "collapsed": false
   },
   "outputs": [
    {
     "data": {
      "text/plain": [
       "[[5, 4], [4, 4]]"
      ]
     },
     "execution_count": 300,
     "metadata": {},
     "output_type": "execute_result"
    }
   ],
   "source": [
    "def boxBlur(image):\n",
    "    arr = []\n",
    "    summ = []\n",
    "    \n",
    "    [arr.append([]) for i in range(len(image)-2)]\n",
    "\n",
    "    for i in range(len(image)):\n",
    "        temp =[]\n",
    "        for j in range(len(image[0])-2):\n",
    "            temp.append(sum([image[i][j], image[i][j+1], image[i][j+2]]))\n",
    "        summ.append(temp)\n",
    "    \n",
    "    stuff =list(zip(*summ))\n",
    "    stuff2 = stuff[:]\n",
    "    \n",
    "    [arr[j].append(sum((stuff2[i][j], stuff2[i][j+1], stuff2[i][j+2]))//9)for i in range(len(stuff2)) for j in range(len(stuff2[0])-2)]\n",
    "\n",
    "    return arr\n",
    "\n",
    "image = [[0,18,9], \n",
    " [27,9,0], \n",
    " [81,63,45]]\n",
    "\n",
    "boxBlur(image3)"
   ]
  },
  {
   "cell_type": "code",
   "execution_count": 197,
   "metadata": {
    "collapsed": false
   },
   "outputs": [
    {
     "data": {
      "text/plain": [
       "[[28]]"
      ]
     },
     "execution_count": 197,
     "metadata": {},
     "output_type": "execute_result"
    }
   ],
   "source": [
    "image2 =[[36,0,18,9], \n",
    " [27,54,9,0], \n",
    " [81,63,72,45]]\n",
    "\n",
    "boxBlur(image)"
   ]
  },
  {
   "cell_type": "code",
   "execution_count": 251,
   "metadata": {
    "collapsed": false
   },
   "outputs": [],
   "source": [
    "image3 = [[7,4,0,1], \n",
    " [5,6,2,2], \n",
    " [6,10,7,8], \n",
    " [1,4,2,0]]"
   ]
  },
  {
   "cell_type": "markdown",
   "metadata": {},
   "source": [
    "### Elegant Sol'n"
   ]
  },
  {
   "cell_type": "code",
   "execution_count": 110,
   "metadata": {
    "collapsed": false
   },
   "outputs": [
    {
     "data": {
      "text/plain": [
       "[[5, 4], [4, 4]]"
      ]
     },
     "execution_count": 110,
     "metadata": {},
     "output_type": "execute_result"
    }
   ],
   "source": [
    "def boxBlur(image):\n",
    "    arr = []\n",
    "    for i in range(len(image)-2):\n",
    "        arr.append([])\n",
    "        for j in range(len(image[i])-2):\n",
    "            arr[i].append(sum(image[i][j:j+3] + image[i+1][j:j+3] + image[i+2][j:j+3])//9)\n",
    "    return arr\n",
    "            \n",
    "boxBlur(image)"
   ]
  },
  {
   "cell_type": "code",
   "execution_count": null,
   "metadata": {
    "collapsed": true
   },
   "outputs": [],
   "source": []
  }
 ],
 "metadata": {
  "anaconda-cloud": {},
  "kernelspec": {
   "display_name": "Python [conda root]",
   "language": "python",
   "name": "conda-root-py"
  },
  "language_info": {
   "codemirror_mode": {
    "name": "ipython",
    "version": 3
   },
   "file_extension": ".py",
   "mimetype": "text/x-python",
   "name": "python",
   "nbconvert_exporter": "python",
   "pygments_lexer": "ipython3",
   "version": "3.5.2"
  }
 },
 "nbformat": 4,
 "nbformat_minor": 1
}
