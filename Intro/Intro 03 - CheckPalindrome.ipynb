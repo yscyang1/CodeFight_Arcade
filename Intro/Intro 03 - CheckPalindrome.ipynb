{
 "cells": [
  {
   "cell_type": "markdown",
   "metadata": {},
   "source": [
    "### First sol'n"
   ]
  },
  {
   "cell_type": "code",
   "execution_count": 52,
   "metadata": {
    "collapsed": false
   },
   "outputs": [
    {
     "name": "stdout",
     "output_type": "stream",
     "text": [
      "a a\n",
      "a a\n",
      "b b\n",
      "True\n",
      "a c\n",
      "b a\n",
      "False\n",
      "a a\n",
      "b r\n",
      "r b\n",
      "a a\n",
      "c d\n",
      "a a\n",
      "False\n"
     ]
    }
   ],
   "source": [
    "import math\n",
    "def checkPalindrome(inputString):\n",
    "    check = True\n",
    "    for i in range(int(math.ceil(len(inputString)/2))):\n",
    "        print(inputString[i], inputString[-i-1])\n",
    "        if inputString[i] != inputString[-i-1]:\n",
    "            check = False\n",
    "    return check\n",
    "\n",
    "print(checkPalindrome('aabaa'))\n",
    "print(checkPalindrome('abac'))\n",
    "print(checkPalindrome('abracadabra'))"
   ]
  },
  {
   "cell_type": "markdown",
   "metadata": {},
   "source": [
    "### Elegant sol'n"
   ]
  },
  {
   "cell_type": "code",
   "execution_count": null,
   "metadata": {
    "collapsed": true
   },
   "outputs": [],
   "source": [
    "def checkPalindromeE(inputString):\n",
    "    return inputString == inputString[::-1]\n",
    "\n"
   ]
  }
 ],
 "metadata": {
  "anaconda-cloud": {},
  "kernelspec": {
   "display_name": "Python [conda root]",
   "language": "python",
   "name": "conda-root-py"
  },
  "language_info": {
   "codemirror_mode": {
    "name": "ipython",
    "version": 3
   },
   "file_extension": ".py",
   "mimetype": "text/x-python",
   "name": "python",
   "nbconvert_exporter": "python",
   "pygments_lexer": "ipython3",
   "version": "3.5.2"
  }
 },
 "nbformat": 4,
 "nbformat_minor": 1
}
