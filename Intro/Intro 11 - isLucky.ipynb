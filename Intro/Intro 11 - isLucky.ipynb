{
 "cells": [
  {
   "cell_type": "markdown",
   "metadata": {},
   "source": [
    "### First Sol'n"
   ]
  },
  {
   "cell_type": "code",
   "execution_count": 36,
   "metadata": {
    "collapsed": false
   },
   "outputs": [
    {
     "name": "stdout",
     "output_type": "stream",
     "text": [
      "True\n",
      "False\n"
     ]
    }
   ],
   "source": [
    "def isLucky(n):\n",
    "    first_half = str(n)[:int(len(str(n))/2)]\n",
    "    second_half = str(n)[int(len(str(n))/2):]\n",
    "    \n",
    "    first_sum = 0\n",
    "    second_sum = 0\n",
    "    for i in first_half:\n",
    "        first_sum += int(i)\n",
    "    for i in second_half:\n",
    "        second_sum += int(i)\n",
    "        \n",
    "    return second_sum == first_sum\n",
    "\n",
    "print(isLucky(1230))\n",
    "print(isLucky(239017))"
   ]
  },
  {
   "cell_type": "markdown",
   "metadata": {},
   "source": [
    "### Elegant Sol'n"
   ]
  },
  {
   "cell_type": "code",
   "execution_count": 54,
   "metadata": {
    "collapsed": false
   },
   "outputs": [
    {
     "name": "stdout",
     "output_type": "stream",
     "text": [
      "True\n",
      "False\n"
     ]
    }
   ],
   "source": [
    "def isLucky(n):\n",
    "    n = str(n)\n",
    "    first_half =n[:int(len(n)/2)]\n",
    "    second_half = n[int(len(n)/2):]\n",
    "    \n",
    "    return sum(map(int, first_half))==sum(map(int, second_half))\n",
    "    \n",
    "\n",
    "print(isLucky(1230))\n",
    "print(isLucky(239017))"
   ]
  },
  {
   "cell_type": "code",
   "execution_count": null,
   "metadata": {
    "collapsed": true
   },
   "outputs": [],
   "source": []
  }
 ],
 "metadata": {
  "kernelspec": {
   "display_name": "Python [conda root]",
   "language": "python",
   "name": "conda-root-py"
  },
  "language_info": {
   "codemirror_mode": {
    "name": "ipython",
    "version": 3
   },
   "file_extension": ".py",
   "mimetype": "text/x-python",
   "name": "python",
   "nbconvert_exporter": "python",
   "pygments_lexer": "ipython3",
   "version": "3.5.2"
  }
 },
 "nbformat": 4,
 "nbformat_minor": 1
}
