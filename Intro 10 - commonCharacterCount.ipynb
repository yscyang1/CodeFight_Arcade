{
 "cells": [
  {
   "cell_type": "markdown",
   "metadata": {},
   "source": [
    "### First Sol'n"
   ]
  },
  {
   "cell_type": "code",
   "execution_count": 26,
   "metadata": {
    "collapsed": false
   },
   "outputs": [
    {
     "data": {
      "text/plain": [
       "3"
      ]
     },
     "execution_count": 26,
     "metadata": {},
     "output_type": "execute_result"
    }
   ],
   "source": [
    "def commonCharacterCount(s1, s2):\n",
    "    dict1 = {}\n",
    "    dict2 = {}\n",
    "    \n",
    "    dict1 = populate_dictionary(s1)\n",
    "    dict2 = populate_dictionary(s2)\n",
    "    \n",
    "    sum = 0\n",
    "    for k,v in dict1.items():\n",
    "        try:\n",
    "            sum += min(dict2[k], v)\n",
    "        except:\n",
    "            pass\n",
    "        \n",
    "    return sum\n",
    "    \n",
    "def populate_dictionary(string):\n",
    "    dictionary = {}\n",
    "    for char in string:\n",
    "        try:\n",
    "            dictionary[char] = dictionary[char]  + 1\n",
    "        except:\n",
    "            dictionary[char] = 1\n",
    "    return dictionary\n",
    "            \n",
    "            \n",
    "s1 = \"aabcc\"\n",
    "s2 = \"adcaa\"\n",
    "\n",
    "commonCharacterCount(s1, s2)"
   ]
  },
  {
   "cell_type": "markdown",
   "metadata": {},
   "source": [
    "### Elegant Sol'n"
   ]
  },
  {
   "cell_type": "code",
   "execution_count": 25,
   "metadata": {
    "collapsed": false
   },
   "outputs": [
    {
     "name": "stdout",
     "output_type": "stream",
     "text": [
      "3\n"
     ]
    }
   ],
   "source": [
    "def commonCharacterCount(s1, s2):\n",
    "    return sum(min(s1.count(i), s2.count(i)) for i in set(s1))\n",
    "\n",
    "s1 = \"aabcc\"\n",
    "s2 = \"adcaa\"\n",
    "\n",
    "print(commonCharacterCount(s1, s2))"
   ]
  },
  {
   "cell_type": "code",
   "execution_count": null,
   "metadata": {
    "collapsed": true
   },
   "outputs": [],
   "source": []
  }
 ],
 "metadata": {
  "anaconda-cloud": {},
  "kernelspec": {
   "display_name": "Python [conda root]",
   "language": "python",
   "name": "conda-root-py"
  },
  "language_info": {
   "codemirror_mode": {
    "name": "ipython",
    "version": 3
   },
   "file_extension": ".py",
   "mimetype": "text/x-python",
   "name": "python",
   "nbconvert_exporter": "python",
   "pygments_lexer": "ipython3",
   "version": "3.5.2"
  }
 },
 "nbformat": 4,
 "nbformat_minor": 1
}
