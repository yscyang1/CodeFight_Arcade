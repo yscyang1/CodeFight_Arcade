{
 "cells": [
  {
   "cell_type": "markdown",
   "metadata": {},
   "source": [
    "### First sol'n"
   ]
  },
  {
   "cell_type": "code",
   "execution_count": 36,
   "metadata": {
    "collapsed": false
   },
   "outputs": [
    {
     "name": "stdout",
     "output_type": "stream",
     "text": [
      "[[1, 1, 1, 0], [0, 5, 0, 0], [0, 1, 0, 0]]\n"
     ]
    },
    {
     "data": {
      "text/plain": [
       "9"
      ]
     },
     "execution_count": 36,
     "metadata": {},
     "output_type": "execute_result"
    }
   ],
   "source": [
    "def matrixElementsSum(matrix):\n",
    "    price = 0\n",
    "    for rows in range(len(matrix)):\n",
    "        for cols in range(len(matrix[0])):\n",
    "            if matrix[rows][cols] == 0:\n",
    "                try:\n",
    "                    matrix[rows+1][cols]=0\n",
    "                    matrix[rows][cols]=0\n",
    "                except:\n",
    "                    pass\n",
    "        price += sum(matrix[rows])\n",
    "    print(matrix)\n",
    "    return price\n",
    "            \n",
    "\n",
    "mat = [[1,1,1,0], \n",
    " [0,5,0,1], \n",
    " [2,1,3,10]]\n",
    "\n",
    "matrixElementsSum(mat)"
   ]
  },
  {
   "cell_type": "markdown",
   "metadata": {},
   "source": [
    "### Elegant Sol'n"
   ]
  },
  {
   "cell_type": "code",
   "execution_count": 44,
   "metadata": {
    "collapsed": false
   },
   "outputs": [
    {
     "name": "stdout",
     "output_type": "stream",
     "text": [
      "1\n",
      "1\n",
      "5\n",
      "1\n",
      "1\n"
     ]
    },
    {
     "data": {
      "text/plain": [
       "9"
      ]
     },
     "execution_count": 44,
     "metadata": {},
     "output_type": "execute_result"
    }
   ],
   "source": [
    "def matrixElementsSum(matrix):\n",
    "    price = 0 \n",
    "    for col in range(len(matrix[0])):\n",
    "        for row in range(len(matrix)):\n",
    "            if matrix[row][col] != 0:\n",
    "                print(matrix[row][col])\n",
    "                price += matrix[row][col]\n",
    "            else:\n",
    "                break\n",
    "            \n",
    "    return price\n",
    "\n",
    "mat = [[1,1,1,0], \n",
    " [0,5,0,1], \n",
    " [2,1,3,10]]\n",
    "\n",
    "matrixElementsSum(mat)"
   ]
  },
  {
   "cell_type": "code",
   "execution_count": null,
   "metadata": {
    "collapsed": true
   },
   "outputs": [],
   "source": []
  }
 ],
 "metadata": {
  "anaconda-cloud": {},
  "kernelspec": {
   "display_name": "Python [conda root]",
   "language": "python",
   "name": "conda-root-py"
  },
  "language_info": {
   "codemirror_mode": {
    "name": "ipython",
    "version": 3
   },
   "file_extension": ".py",
   "mimetype": "text/x-python",
   "name": "python",
   "nbconvert_exporter": "python",
   "pygments_lexer": "ipython3",
   "version": "3.5.2"
  }
 },
 "nbformat": 4,
 "nbformat_minor": 1
}
